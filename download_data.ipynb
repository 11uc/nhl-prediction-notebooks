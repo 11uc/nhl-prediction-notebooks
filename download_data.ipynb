{
  "nbformat": 4,
  "nbformat_minor": 0,
  "metadata": {
    "colab": {
      "name": "download_data.ipynb",
      "provenance": [],
      "authorship_tag": "ABX9TyP2k3FS+55Uv+jc3zL+WLY3",
      "include_colab_link": true
    },
    "kernelspec": {
      "name": "python3",
      "display_name": "Python 3"
    },
    "language_info": {
      "name": "python"
    }
  },
  "cells": [
    {
      "cell_type": "markdown",
      "metadata": {
        "id": "view-in-github",
        "colab_type": "text"
      },
      "source": [
        "<a href=\"https://colab.research.google.com/github/11uc/nhl-prediction-notebooks/blob/main/download_data.ipynb\" target=\"_parent\"><img src=\"https://colab.research.google.com/assets/colab-badge.svg\" alt=\"Open In Colab\"/></a>"
      ]
    },
    {
      "cell_type": "markdown",
      "metadata": {
        "id": "rf4AtOMkd5wN"
      },
      "source": [
        "## Download data\n",
        "Download data from the NHL api from player performance prediction. Save all the data on the hard drive in csv format."
      ]
    },
    {
      "cell_type": "code",
      "metadata": {
        "colab": {
          "base_uri": "https://localhost:8080/"
        },
        "id": "IqauQ33D3rl4",
        "outputId": "086f6ef2-99a6-4bae-d8a7-87a1c7027d89"
      },
      "source": [
        "!pip install requests_futures"
      ],
      "execution_count": null,
      "outputs": [
        {
          "output_type": "stream",
          "name": "stdout",
          "text": [
            "Collecting requests_futures\n",
            "  Downloading requests_futures-1.0.0-py2.py3-none-any.whl (7.4 kB)\n",
            "Requirement already satisfied: requests>=1.2.0 in /usr/local/lib/python3.7/dist-packages (from requests_futures) (2.23.0)\n",
            "Requirement already satisfied: certifi>=2017.4.17 in /usr/local/lib/python3.7/dist-packages (from requests>=1.2.0->requests_futures) (2021.5.30)\n",
            "Requirement already satisfied: chardet<4,>=3.0.2 in /usr/local/lib/python3.7/dist-packages (from requests>=1.2.0->requests_futures) (3.0.4)\n",
            "Requirement already satisfied: urllib3!=1.25.0,!=1.25.1,<1.26,>=1.21.1 in /usr/local/lib/python3.7/dist-packages (from requests>=1.2.0->requests_futures) (1.24.3)\n",
            "Requirement already satisfied: idna<3,>=2.5 in /usr/local/lib/python3.7/dist-packages (from requests>=1.2.0->requests_futures) (2.10)\n",
            "Installing collected packages: requests-futures\n",
            "Successfully installed requests-futures-1.0.0\n"
          ]
        }
      ]
    },
    {
      "cell_type": "code",
      "metadata": {
        "id": "0gZjLyI3vR0V"
      },
      "source": [
        "import numpy as np\n",
        "import pandas as pd\n",
        "import requests\n",
        "from requests_futures.sessions import FuturesSession\n",
        "from datetime import datetime"
      ],
      "execution_count": null,
      "outputs": []
    },
    {
      "cell_type": "code",
      "metadata": {
        "id": "h3CeqbnovdXA"
      },
      "source": [
        "apiurl = \"https://statsapi.web.nhl.com/api/v1/\""
      ],
      "execution_count": null,
      "outputs": []
    },
    {
      "cell_type": "markdown",
      "metadata": {
        "id": "pXpO3PC2v5Bo"
      },
      "source": [
        "## Team roster in seasons\n",
        "Team roster data with player ids and names and team ids and names in each season"
      ]
    },
    {
      "cell_type": "code",
      "metadata": {
        "id": "CIUmh7zqwUcG"
      },
      "source": [
        "yearRange = (1917, 2021)\n",
        "players = []\n",
        "for year in range(*yearRange):\n",
        "    season = f'{year}{year+1}'\n",
        "    resp = requests.get(apiurl + \"teams\",\n",
        "                        params = {\"expand\": \"team.roster\",\n",
        "                                  \"season\": season})\n",
        "    data = resp.json()\n",
        "    for team in data[\"teams\"]:\n",
        "        if \"roster\" in team:\n",
        "            for person in team[\"roster\"][\"roster\"]:\n",
        "                player = {\"season\": season,\n",
        "                          \"year\": year,\n",
        "                          \"teamId\": team[\"id\"],\n",
        "                          \"teamName\": team[\"name\"],\n",
        "                          \"playerId\": person[\"person\"][\"id\"],\n",
        "                          \"playerName\": person[\"person\"][\"fullName\"]\n",
        "                         }\n",
        "                players.append(player)\n",
        "players = pd.DataFrame(players)\n",
        "players.to_csv(\"players.csv\", index = False)"
      ],
      "execution_count": null,
      "outputs": []
    },
    {
      "cell_type": "code",
      "metadata": {
        "colab": {
          "base_uri": "https://localhost:8080/",
          "height": 204
        },
        "id": "bkBbzNv11AaG",
        "outputId": "f7288917-0868-4ab7-807c-697be1e7cb02"
      },
      "source": [
        "players.head()"
      ],
      "execution_count": null,
      "outputs": [
        {
          "output_type": "execute_result",
          "data": {
            "text/html": [
              "<div>\n",
              "<style scoped>\n",
              "    .dataframe tbody tr th:only-of-type {\n",
              "        vertical-align: middle;\n",
              "    }\n",
              "\n",
              "    .dataframe tbody tr th {\n",
              "        vertical-align: top;\n",
              "    }\n",
              "\n",
              "    .dataframe thead th {\n",
              "        text-align: right;\n",
              "    }\n",
              "</style>\n",
              "<table border=\"1\" class=\"dataframe\">\n",
              "  <thead>\n",
              "    <tr style=\"text-align: right;\">\n",
              "      <th></th>\n",
              "      <th>season</th>\n",
              "      <th>year</th>\n",
              "      <th>teamId</th>\n",
              "      <th>teamName</th>\n",
              "      <th>playerId</th>\n",
              "      <th>playerName</th>\n",
              "    </tr>\n",
              "  </thead>\n",
              "  <tbody>\n",
              "    <tr>\n",
              "      <th>0</th>\n",
              "      <td>19171918</td>\n",
              "      <td>1917</td>\n",
              "      <td>36</td>\n",
              "      <td>Ottawa Senators (1917)</td>\n",
              "      <td>8445135</td>\n",
              "      <td>George Boucher</td>\n",
              "    </tr>\n",
              "    <tr>\n",
              "      <th>1</th>\n",
              "      <td>19171918</td>\n",
              "      <td>1917</td>\n",
              "      <td>36</td>\n",
              "      <td>Ottawa Senators (1917)</td>\n",
              "      <td>8445191</td>\n",
              "      <td>Morley Bruce</td>\n",
              "    </tr>\n",
              "    <tr>\n",
              "      <th>2</th>\n",
              "      <td>19171918</td>\n",
              "      <td>1917</td>\n",
              "      <td>36</td>\n",
              "      <td>Ottawa Senators (1917)</td>\n",
              "      <td>8445802</td>\n",
              "      <td>Rusty Crawford</td>\n",
              "    </tr>\n",
              "    <tr>\n",
              "      <th>3</th>\n",
              "      <td>19171918</td>\n",
              "      <td>1917</td>\n",
              "      <td>36</td>\n",
              "      <td>Ottawa Senators (1917)</td>\n",
              "      <td>8445844</td>\n",
              "      <td>Jack Darragh</td>\n",
              "    </tr>\n",
              "    <tr>\n",
              "      <th>4</th>\n",
              "      <td>19171918</td>\n",
              "      <td>1917</td>\n",
              "      <td>36</td>\n",
              "      <td>Ottawa Senators (1917)</td>\n",
              "      <td>8445874</td>\n",
              "      <td>Cy Denneny</td>\n",
              "    </tr>\n",
              "  </tbody>\n",
              "</table>\n",
              "</div>"
            ],
            "text/plain": [
              "     season  year  teamId                teamName  playerId      playerName\n",
              "0  19171918  1917      36  Ottawa Senators (1917)   8445135  George Boucher\n",
              "1  19171918  1917      36  Ottawa Senators (1917)   8445191    Morley Bruce\n",
              "2  19171918  1917      36  Ottawa Senators (1917)   8445802  Rusty Crawford\n",
              "3  19171918  1917      36  Ottawa Senators (1917)   8445844    Jack Darragh\n",
              "4  19171918  1917      36  Ottawa Senators (1917)   8445874      Cy Denneny"
            ]
          },
          "metadata": {},
          "execution_count": 4
        }
      ]
    },
    {
      "cell_type": "code",
      "metadata": {
        "id": "lbx-AhdL0dk8"
      },
      "source": [
        "players = pd.read_csv(\"players.csv\", dtype = {\"season\": str})"
      ],
      "execution_count": null,
      "outputs": []
    },
    {
      "cell_type": "markdown",
      "metadata": {
        "id": "-A7Bwq4q1EeF"
      },
      "source": [
        "## Player basic info with birth date and position.\n",
        "For all the players, using player ids from the team roster dataframe, download the basic information about that player.\n",
        "Some format conversion is done here."
      ]
    },
    {
      "cell_type": "code",
      "metadata": {
        "id": "8_1lWU5154j4"
      },
      "source": [
        "def heightToInches(hstr):\n",
        "    if hstr is None:\n",
        "        return None\n",
        "    feet, inch = hstr.split(' ')\n",
        "    h = int(feet[:-1]) * 12 + int(inch[:-1])\n",
        "    return h\n",
        "\n",
        "def birthYear(dob):\n",
        "    if dob is None:\n",
        "        return None\n",
        "    else:\n",
        "        return datetime.fromisoformat(dob).year\n",
        "\n",
        "stats_cols = [\"id\", \"birthYear\", \"nationality\", \"height\", \n",
        "             \"weight\", \"shootsCatches\", \"position\"]\n",
        "\n",
        "def get_player_stats(resp):\n",
        "    data = resp.json()\n",
        "    stats = data[\"people\"][0]\n",
        "    player_stats = [stats.get(\"id\"),\n",
        "                   birthYear(stats.get(\"birthDate\")),\n",
        "                   stats.get(\"nationality\"),\n",
        "                   heightToInches(stats.get(\"height\")),\n",
        "                   stats.get(\"weight\"),\n",
        "                   stats.get(\"shootsCatches\"),\n",
        "                   stats.get(\"primaryPosition\").get(\"code\")]\n",
        "    return player_stats"
      ],
      "execution_count": null,
      "outputs": []
    },
    {
      "cell_type": "code",
      "metadata": {
        "id": "3d7IYWof1ul7"
      },
      "source": [
        "playerIds = np.unique(players[\"playerId\"])\n",
        "session = FuturesSession(max_workers = 10)\n",
        "futures = [session.get(url = apiurl + f'people/{pid}')\n",
        "            for pid in playerIds]\n",
        "player_stats = [get_player_stats(future.result()) for \n",
        "               future in futures]\n",
        "player_stats = pd.DataFrame(player_stats,\n",
        "                           columns = stats_cols)\n",
        "player_stats.to_csv(\"player_stats.csv\", index = False)"
      ],
      "execution_count": null,
      "outputs": []
    },
    {
      "cell_type": "code",
      "metadata": {
        "id": "uGfH1yDr5gP6"
      },
      "source": [
        "player_stats = pd.read_csv(\"player_stats.csv\", \n",
        "                           dtype = {\"season\": str})"
      ],
      "execution_count": null,
      "outputs": []
    },
    {
      "cell_type": "markdown",
      "metadata": {
        "id": "QydinkIPHify"
      },
      "source": [
        "## Download team seasonal data\n",
        "Download every team's seasonal performance stats"
      ]
    },
    {
      "cell_type": "code",
      "metadata": {
        "id": "rjs-SBDGI5DP"
      },
      "source": [
        "def get_team_stats(resp, year):\n",
        "    data = resp.json()\n",
        "    stats = []\n",
        "    for team in data[\"teams\"]:\n",
        "        if \"teamStats\" in team:\n",
        "            stat = team[\"teamStats\"][0][\"splits\"][0][\"stat\"]\n",
        "            stat[\"season\"] = f\"{year}{year + 1}\"\n",
        "            stat[\"teamId\"] = team[\"id\"]\n",
        "            stats.append(stat)\n",
        "    return stats"
      ],
      "execution_count": null,
      "outputs": []
    },
    {
      "cell_type": "code",
      "metadata": {
        "id": "qfAR8-UPHAf0"
      },
      "source": [
        "session = FuturesSession(max_workers = 10)\n",
        "futures = [session.get(url = apiurl + \"teams\",\n",
        "                       params = {\"expand\": \"team.stats\",\n",
        "                                 \"season\": f\"{year}{year + 1}\"})\n",
        "            for year in range(*yearRange)]\n",
        "team_seasonal = [stat \n",
        "                 for future, year in zip(futures, range(*yearRange))\n",
        "                 for stat in get_team_stats(future.result(), year)]\n",
        "team_seasonal = pd.DataFrame(team_seasonal)\n",
        "# Save to drive\n",
        "team_seasonal.to_csv(\"team_seasonal.csv\", index = False)"
      ],
      "execution_count": null,
      "outputs": []
    },
    {
      "cell_type": "code",
      "metadata": {
        "id": "Ulb16jG3LdPF"
      },
      "source": [
        "# Load from drive\n",
        "team_seasonal = pd.read_csv(\"team_seasonal.csv\",\n",
        "                            dtype = {\"season\": str})"
      ],
      "execution_count": null,
      "outputs": []
    },
    {
      "cell_type": "markdown",
      "metadata": {
        "id": "n60_0oXSduTN"
      },
      "source": [
        "## Download player seasonal stats\n",
        "* Combining data if a player is in more than one team in a season.\n",
        "* Remove redundant data columns."
      ]
    },
    {
      "cell_type": "markdown",
      "metadata": {
        "id": "A9VNTUBpgTgG"
      },
      "source": [
        "### Skaters"
      ]
    },
    {
      "cell_type": "code",
      "metadata": {
        "id": "HVdnhxy-f1BF"
      },
      "source": [
        "players_p = players.merge(\n",
        "    player_stats[[\"id\", \"position\"]].set_index(\"id\"),\n",
        "    how = \"left\",\n",
        "    left_on = \"playerId\",\n",
        "    right_index = True)"
      ],
      "execution_count": null,
      "outputs": []
    },
    {
      "cell_type": "code",
      "metadata": {
        "id": "xDdCeJyWhSqt"
      },
      "source": [
        "def get_player_season(future, season, pid):\n",
        "    data = future.result().json()\n",
        "    if not len(data[\"stats\"][0][\"splits\"]):\n",
        "        # print(pid, season)\n",
        "        return None\n",
        "    stat = data[\"stats\"][0][\"splits\"][0][\"stat\"]\n",
        "    stat[\"season\"] = season\n",
        "    stat[\"playerId\"] = pid\n",
        "    # This has extra features, remove\n",
        "    stat.pop(\"timeOnIcePerGame\", 0)\n",
        "    stat.pop(\"evenTimeOnIcePerGame\", 0)\n",
        "    stat.pop(\"shortHandedTimeOnIcePerGame\", 0)\n",
        "    stat.pop(\"powerPlayTimeOnIcePerGame\", 0)\n",
        "    return stat\n",
        "\n",
        "def get_futures(row, session):\n",
        "    season = row[\"season\"]\n",
        "    pid = row[\"playerId\"]\n",
        "    future = session.get(url = apiurl + f'people/{pid}/stats',\n",
        "                         params = {\"stats\": \"statsSingleSeason\",\n",
        "                                   \"season\": season})\n",
        "    return future, season, pid"
      ],
      "execution_count": null,
      "outputs": []
    },
    {
      "cell_type": "code",
      "metadata": {
        "id": "iu7KA8QglFkS"
      },
      "source": [
        "# Skaters\n",
        "# Combine future requests, season and pid in a tuple\n",
        "session = FuturesSession(max_workers = 10)\n",
        "uni_players = (players_p.query((\"position != 'G' \"\n",
        "                                \" and position == position\"))\n",
        "                .drop_duplicates([\"playerId\", \"season\"]))\n",
        "futures = uni_players.apply(get_futures, axis = 1, \n",
        "                          args = (session,))\n",
        "skater_uni = [get_player_season(*future) for future in futures]\n",
        "skater_uni = pd.DataFrame(filter(None, skater_uni))"
      ],
      "execution_count": null,
      "outputs": []
    },
    {
      "cell_type": "code",
      "metadata": {
        "id": "VQ91_rPMmJAq"
      },
      "source": [
        "skater_uni.to_csv(\"skater_uni.csv\", index = False)"
      ],
      "execution_count": null,
      "outputs": []
    },
    {
      "cell_type": "markdown",
      "metadata": {
        "id": "xs2gBp60yafX"
      },
      "source": [
        "### Goalies"
      ]
    },
    {
      "cell_type": "code",
      "metadata": {
        "id": "GSVzvYm5LHYf"
      },
      "source": [
        "players_p = players.merge(\n",
        "    player_stats[[\"id\", \"position\"]].set_index(\"id\"),\n",
        "    how = \"left\",\n",
        "    left_on = \"playerId\",\n",
        "    right_index = True)"
      ],
      "execution_count": null,
      "outputs": []
    },
    {
      "cell_type": "code",
      "metadata": {
        "id": "pDD66qQsyqzN"
      },
      "source": [
        "def get_player_season(future, season, pid):\n",
        "    data = future.result().json()\n",
        "    if not len(data[\"stats\"][0][\"splits\"]):\n",
        "        # print(pid, season)\n",
        "        return None\n",
        "    stat = data[\"stats\"][0][\"splits\"][0][\"stat\"]\n",
        "    stat[\"season\"] = season\n",
        "    stat[\"playerId\"] = pid\n",
        "    return stat\n",
        "\n",
        "def get_futures(row, session):\n",
        "    season = row[\"season\"]\n",
        "    pid = row[\"playerId\"]\n",
        "    future = session.get(url = apiurl + f'people/{pid}/stats',\n",
        "                         params = {\"stats\": \"statsSingleSeason\",\n",
        "                                   \"season\": season})\n",
        "    return future, season, pid"
      ],
      "execution_count": null,
      "outputs": []
    },
    {
      "cell_type": "code",
      "metadata": {
        "id": "n6AW2FNdzP1k"
      },
      "source": [
        "# Goaliess\n",
        "# Combine future requests, season and pid in a tuple\n",
        "session = FuturesSession(max_workers = 10)\n",
        "uni_players = (players_p.query(\"position == 'G'\")\n",
        "                .drop_duplicates([\"playerId\", \"season\"]))\n",
        "futures = uni_players.apply(get_futures, axis = 1, \n",
        "                          args = (session,))\n",
        "goalie_uni = [get_player_season(*future) for future in futures]\n",
        "goalie_uni = pd.DataFrame(filter(None, goalie_uni))"
      ],
      "execution_count": null,
      "outputs": []
    },
    {
      "cell_type": "code",
      "metadata": {
        "id": "7Qes-BTl76oz"
      },
      "source": [
        "goalie_uni = pd.DataFrame(filter(None, goalie_uni))\n",
        "goalie_uni.to_csv(\"goalie_uni.csv\", index = False)"
      ],
      "execution_count": null,
      "outputs": []
    },
    {
      "cell_type": "code",
      "metadata": {
        "id": "uW-OR1xe8Fg3"
      },
      "source": [
        ""
      ],
      "execution_count": null,
      "outputs": []
    }
  ]
}